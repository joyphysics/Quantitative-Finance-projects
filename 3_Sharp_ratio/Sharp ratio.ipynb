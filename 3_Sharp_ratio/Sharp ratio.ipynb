{
 "cells": [
  {
   "cell_type": "markdown",
   "id": "a8a8d739-126a-458f-9a73-d9f07fae1ff2",
   "metadata": {},
   "source": [
    "### What is the Sharpe Ratio?\n",
    "The Sharpe Ratio is a measure used to assess the risk-adjusted return of an investment or portfolio. It tells you how much excess return you receive for the volatility you endure for holding a risky asset. It was developed by Nobel laureate William Sharpe in 1966.\n",
    "\n",
    "### Why is the Sharpe Ratio Important?\n",
    "1. Risk-Adjusted Returns: It helps compare investments with different risk levels on an equal footing\n",
    "2. Portfolio Optimization: Higher Sharpe ratios indicate better risk-adjusted performance\n",
    "3. Investment Decision Making: Helps determine if higher returns justify the additional risk\n",
    "4. Benchmark Comparison: Allows comparison of individual stocks against market indices\n",
    "5. Performance Evaluation: Measures how well an investment compensates investors for risk taken\n",
    "\n",
    "### Sharpe Ratio Formula\n",
    "\n",
    "\\begin{equation*}\n",
    "\\text { Sharpe Ratio }=\\frac{R_p-R_f}{\\sigma_p}\n",
    "\\end{equation*}\n",
    "\n",
    "\n",
    "Where:\n",
    "- $R_p$ : Average return of the portfolio (or asset)\n",
    "- $R_f$ : Risk-free rate (you can assume a constant, e.g., 0.03 for $3 \\%$ )\n",
    "- $\\sigma_p$ : Standard deviation of the portfolio (or asset) return (a measure of risk)\n",
    "\n",
    "#### Description:\n",
    "1. Numerator (Rp-Rf): This is the \"excess return\" - the additional return earned above the risk-free rate\n",
    "2. Denominator ( $\\sigma$ ): This represents the volatility or risk of the investment\n",
    "3. Interpretation:\n",
    "- Higher values indicate better risk-adjusted performance\n",
    "- Ratio > 1.0 is generally considered good\n",
    "- Ratio >2.0 is considered very good\n",
    "- Ratio >3.0 is excellent\n",
    "- Sharpe < 0: The investment performed worse than risk-free assets\n",
    "\n",
    "##### Returns are usually daily, weekly, or monthly, so you annualize the Sharpe Ratio accordingly:\n",
    "\n",
    "\\begin{equation*}\n",
    "\\text { Annualized Sharpe Ratio }=\\frac{\\text { Mean Daily Excess Return } \\times 252}{\\text { Std Dev of Daily Return } \\times \\sqrt{252}}\n",
    "\\end{equation*}\n",
    "\n",
    "(Assuming 252 trading days per year)"
   ]
  },
  {
   "cell_type": "code",
   "execution_count": 1,
   "id": "66138ef1-5bfc-4162-b0a8-f9782bfbfa41",
   "metadata": {},
   "outputs": [],
   "source": [
    "import pandas as pd\n",
    "import numpy as np\n",
    "import yfinance as yf\n",
    "import datetime as dt"
   ]
  },
  {
   "cell_type": "code",
   "execution_count": 6,
   "id": "e898986f-c603-47b2-ad45-190ec402990f",
   "metadata": {},
   "outputs": [],
   "source": [
    "def calculate_sharpe_ratio(df, risk_free_rate=0.02):\n",
    "    \"\"\"\n",
    "    Calculate Sharpe ratio for each stock in the dataframe\n",
    "    \n",
    "    Parameters:\n",
    "    df: DataFrame with stock price data\n",
    "    risk_free_rate: Annual risk-free rate (default 2% for current environment)\n",
    "    \n",
    "    Returns:\n",
    "    DataFrame with Sharpe ratios and related metrics\n",
    "    \"\"\"\n",
    "    \n",
    "    # Step 1: Calculate daily returns for each stock\n",
    "    # Using 'Adj Close' prices for accurate return calculations\n",
    "    adj_close = df['Adj Close']\n",
    "    daily_returns = adj_close.pct_change().dropna()\n",
    "    \n",
    "    # Step 2: Calculate annualized metrics\n",
    "    trading_days = 252  # Standard trading days per year\n",
    "    \n",
    "    # Annualized returns (geometric mean)\n",
    "    annual_returns = (1 + daily_returns.mean()) ** trading_days - 1\n",
    "    \n",
    "    # Annualized volatility (standard deviation)\n",
    "    annual_volatility = daily_returns.std() * np.sqrt(trading_days)\n",
    "    \n",
    "    # Step 3: Calculate Sharpe ratio\n",
    "    excess_returns = annual_returns - risk_free_rate\n",
    "    sharpe_ratios = excess_returns / annual_volatility\n",
    "    \n",
    "    # Step 4: Create results dataframe\n",
    "    results = pd.DataFrame({\n",
    "        'Annual_Return': annual_returns,\n",
    "        'Annual_Volatility': annual_volatility,\n",
    "        'Excess_Return': excess_returns,\n",
    "        'Sharpe_Ratio': sharpe_ratios\n",
    "    })\n",
    "    \n",
    "    # Format percentages for better readability\n",
    "    results['Annual_Return_Pct'] = results['Annual_Return'] * 100\n",
    "    results['Annual_Volatility_Pct'] = results['Annual_Volatility'] * 100\n",
    "    results['Excess_Return_Pct'] = results['Excess_Return'] * 100\n",
    "    \n",
    "    return results\n",
    "\n",
    "def get_risk_free_rate():\n",
    "    \"\"\"\n",
    "    Fetch current 3-month Treasury rate as risk-free rate\n",
    "    \"\"\"\n",
    "    try:\n",
    "        treasury = yf.download(\"^IRX\", period=\"1d\", interval=\"1d\", progress=False)\n",
    "        current_rate = float(treasury['Close'].iloc[-1]) / 100  # Convert percentage to decimal and ensure float\n",
    "        return current_rate\n",
    "    except Exception as e:\n",
    "        print(f\"Could not fetch current risk-free rate ({str(e)}), using default 2%\")\n",
    "        return 0.02"
   ]
  },
  {
   "cell_type": "code",
   "execution_count": 9,
   "id": "be520963-e493-4496-881c-62a4933ab8ee",
   "metadata": {},
   "outputs": [
    {
     "name": "stdout",
     "output_type": "stream",
     "text": [
      "Downloading stock data...\n"
     ]
    },
    {
     "name": "stderr",
     "output_type": "stream",
     "text": [
      "[*********************100%***********************]  4 of 4 completed\n"
     ]
    }
   ],
   "source": [
    "# Step 1: Download data \n",
    "end = dt.datetime.now()\n",
    "start = end - dt.timedelta(days=365 * 5)\n",
    "stocks = [\"MSFT\", \"QQQ\", \"INTC\", \"SPY\"]\n",
    "    \n",
    "print(\"Downloading stock data...\")\n",
    "df = yf.download(stocks, start=start, end=end, auto_adjust=False)"
   ]
  },
  {
   "cell_type": "code",
   "execution_count": 11,
   "id": "a43dfc92-7fb9-47df-85a3-8dd42e09d836",
   "metadata": {},
   "outputs": [
    {
     "name": "stdout",
     "output_type": "stream",
     "text": [
      "Using risk-free rate: 0.0420 (4.20%)\n"
     ]
    },
    {
     "name": "stderr",
     "output_type": "stream",
     "text": [
      "C:\\Users\\HP\\AppData\\Local\\Temp\\ipykernel_35856\\2264511628.py:52: FutureWarning: Calling float on a single element Series is deprecated and will raise a TypeError in the future. Use float(ser.iloc[0]) instead\n",
      "  current_rate = float(treasury['Close'].iloc[-1]) / 100  # Convert percentage to decimal and ensure float\n"
     ]
    }
   ],
   "source": [
    "# Step 2: Get current risk-free rate\n",
    "risk_free_rate = get_risk_free_rate()\n",
    "print(f\"Using risk-free rate: {risk_free_rate:.4f} ({risk_free_rate*100:.2f}%)\")\n",
    "    \n",
    "# Alternative: Use a fixed rate if the above fails\n",
    "if risk_free_rate is None or pd.isna(risk_free_rate):\n",
    "    risk_free_rate = 0.02\n",
    "    print(\"Using default risk-free rate: 2.00%\")"
   ]
  },
  {
   "cell_type": "code",
   "execution_count": 13,
   "id": "8de87de1-f2e8-415d-aa1a-a52c7347c20a",
   "metadata": {},
   "outputs": [
    {
     "name": "stdout",
     "output_type": "stream",
     "text": [
      "Calculating Sharpe ratios...\n"
     ]
    }
   ],
   "source": [
    "# Step 3: Calculate Sharpe ratios\n",
    "print(\"Calculating Sharpe ratios...\")\n",
    "sharpe_results = calculate_sharpe_ratio(df, risk_free_rate)"
   ]
  },
  {
   "cell_type": "code",
   "execution_count": 14,
   "id": "ffb8754d-876f-4682-933f-04dee4985488",
   "metadata": {},
   "outputs": [
    {
     "name": "stdout",
     "output_type": "stream",
     "text": [
      "\n",
      "================================================================================\n",
      "SHARPE RATIO ANALYSIS RESULTS\n",
      "================================================================================\n",
      "\n",
      "MSFT:\n",
      "  Annual Return:       25.94%\n",
      "  Annual Volatility:   27.17%\n",
      "  Excess Return:       21.74%\n",
      "  Sharpe Ratio:       0.8001\n",
      "  Performance:      Positive but Below Average\n",
      "\n",
      "SPY:\n",
      "  Annual Return:       17.83%\n",
      "  Annual Volatility:   17.91%\n",
      "  Excess Return:       13.63%\n",
      "  Sharpe Ratio:       0.7608\n",
      "  Performance:      Positive but Below Average\n",
      "\n",
      "QQQ:\n",
      "  Annual Return:       21.59%\n",
      "  Annual Volatility:   23.67%\n",
      "  Excess Return:       17.38%\n",
      "  Sharpe Ratio:       0.7344\n",
      "  Performance:      Positive but Below Average\n",
      "\n",
      "INTC:\n",
      "  Annual Return:      -10.12%\n",
      "  Annual Volatility:   43.29%\n",
      "  Excess Return:      -14.32%\n",
      "  Sharpe Ratio:      -0.3309\n",
      "  Performance:      Poor (Negative)\n"
     ]
    }
   ],
   "source": [
    "# Step 4: Display results\n",
    "print(\"\\n\" + \"=\"*80)\n",
    "print(\"SHARPE RATIO ANALYSIS RESULTS\")\n",
    "print(\"=\"*80)\n",
    "\n",
    "# Sort by Sharpe ratio (descending)\n",
    "sharpe_results_sorted = sharpe_results.sort_values('Sharpe_Ratio', ascending=False)\n",
    "\n",
    "for stock in sharpe_results_sorted.index:\n",
    "    print(f\"\\n{stock}:\")\n",
    "    print(f\"  Annual Return:    {sharpe_results_sorted.loc[stock, 'Annual_Return_Pct']:8.2f}%\")\n",
    "    print(f\"  Annual Volatility: {sharpe_results_sorted.loc[stock, 'Annual_Volatility_Pct']:7.2f}%\")\n",
    "    print(f\"  Excess Return:    {sharpe_results_sorted.loc[stock, 'Excess_Return_Pct']:8.2f}%\")\n",
    "    print(f\"  Sharpe Ratio:     {sharpe_results_sorted.loc[stock, 'Sharpe_Ratio']:8.4f}\")\n",
    "    \n",
    "    # Interpretation\n",
    "    sharpe_val = sharpe_results_sorted.loc[stock, 'Sharpe_Ratio']\n",
    "    if sharpe_val > 3.0:\n",
    "        interpretation = \"Excellent\"\n",
    "    elif sharpe_val > 2.0:\n",
    "        interpretation = \"Very Good\"\n",
    "    elif sharpe_val > 1.0:\n",
    "        interpretation = \"Good\"\n",
    "    elif sharpe_val > 0:\n",
    "        interpretation = \"Positive but Below Average\"\n",
    "    else:\n",
    "        interpretation = \"Poor (Negative)\"\n",
    "    print(f\"  Performance:      {interpretation}\")"
   ]
  },
  {
   "cell_type": "code",
   "execution_count": 15,
   "id": "75eb5ad4-c9cc-4472-9937-41c80e16e3bb",
   "metadata": {},
   "outputs": [
    {
     "name": "stdout",
     "output_type": "stream",
     "text": [
      "\n",
      "================================================================================\n",
      "SUMMARY TABLE\n",
      "================================================================================\n",
      "        Annual Return (%)  Volatility (%)  Sharpe Ratio\n",
      "Ticker                                                 \n",
      "MSFT              25.9443         27.1729        0.8001\n",
      "SPY               17.8297         17.9115        0.7608\n",
      "QQQ               21.5878         23.6707        0.7344\n",
      "INTC             -10.1199         43.2893       -0.3309\n"
     ]
    }
   ],
   "source": [
    "# Step 5: Summary table\n",
    "print(\"\\n\" + \"=\"*80)\n",
    "print(\"SUMMARY TABLE\")\n",
    "print(\"=\"*80)\n",
    "summary_df = sharpe_results_sorted[['Annual_Return_Pct', 'Annual_Volatility_Pct', 'Sharpe_Ratio']].round(4)\n",
    "summary_df.columns = ['Annual Return (%)', 'Volatility (%)', 'Sharpe Ratio']\n",
    "print(summary_df.to_string())"
   ]
  },
  {
   "cell_type": "code",
   "execution_count": 16,
   "id": "efce8865-98f6-4fd9-b3a8-98b62ff4104c",
   "metadata": {},
   "outputs": [
    {
     "name": "stdout",
     "output_type": "stream",
     "text": [
      "\n",
      " Best Risk-Adjusted Performance: MSFT (Sharpe: 0.8001)\n",
      "Worst Risk-Adjusted Performance: INTC (Sharpe: -0.3309)\n",
      "\n",
      " Results saved to 'sharpe_ratio_analysis.csv'\n"
     ]
    }
   ],
   "source": [
    "# Step 6: Best and worst performers\n",
    "best_stock = sharpe_results_sorted.index[0]\n",
    "worst_stock = sharpe_results_sorted.index[-1]\n",
    "\n",
    "print(f\"\\n Best Risk-Adjusted Performance: {best_stock} (Sharpe: {sharpe_results_sorted.loc[best_stock, 'Sharpe_Ratio']:.4f})\")\n",
    "print(f\"Worst Risk-Adjusted Performance: {worst_stock} (Sharpe: {sharpe_results_sorted.loc[worst_stock, 'Sharpe_Ratio']:.4f})\")\n",
    "\n",
    "# Optional: Save results to CSV\n",
    "sharpe_results_sorted.round(4).to_csv('sharpe_ratio_analysis.csv')\n",
    "print(f\"\\n Results saved to 'sharpe_ratio_analysis.csv'\")"
   ]
  },
  {
   "cell_type": "code",
   "execution_count": 3,
   "id": "f76e37ed-1381-4b87-b298-9a73c72b2ef1",
   "metadata": {},
   "outputs": [
    {
     "name": "stderr",
     "output_type": "stream",
     "text": [
      "[*********************100%***********************]  4 of 4 completed"
     ]
    },
    {
     "name": "stdout",
     "output_type": "stream",
     "text": [
      "      Sharpe Ratio\n",
      "SPY       0.748814\n",
      "MSFT      0.738880\n",
      "QQQ       0.699357\n",
      "INTC     -0.315716\n"
     ]
    },
    {
     "name": "stderr",
     "output_type": "stream",
     "text": [
      "\n"
     ]
    }
   ],
   "source": [
    "import pandas as pd\n",
    "import numpy as np\n",
    "import yfinance as yf\n",
    "import datetime as dt\n",
    "\n",
    "# Step 1: Download data\n",
    "end = dt.datetime.now()\n",
    "start = end - dt.timedelta(days=365 * 5)\n",
    "\n",
    "stocks = [\"MSFT\", \"QQQ\", \"INTC\", \"SPY\"]  # SPY is market index\n",
    "df = yf.download(stocks, start=start, end=end, auto_adjust=False)[\"Adj Close\"]\n",
    "\n",
    "# Step 2: Calculate daily returns\n",
    "daily_returns = df.pct_change().dropna()\n",
    "\n",
    "# Step 3: Define risk-free rate (e.g., 3% per year)\n",
    "risk_free_rate = 0.03\n",
    "daily_rfr = risk_free_rate / 252\n",
    "\n",
    "# Step 4: Calculate Sharpe Ratio for each stock\n",
    "sharpe_ratios = {}\n",
    "\n",
    "for stock in stocks:\n",
    "    excess_daily_return = daily_returns[stock] - daily_rfr\n",
    "    avg_excess_return = excess_daily_return.mean()\n",
    "    std_dev = excess_daily_return.std()\n",
    "    sharpe_ratio = (avg_excess_return * 252) / (std_dev * np.sqrt(252))\n",
    "    sharpe_ratios[stock] = sharpe_ratio\n",
    "\n",
    "# Step 5: Display results\n",
    "sharpe_df = pd.DataFrame.from_dict(sharpe_ratios, orient='index', columns=[\"Sharpe Ratio\"])\n",
    "print(sharpe_df.sort_values(by=\"Sharpe Ratio\", ascending=False))\n"
   ]
  },
  {
   "cell_type": "code",
   "execution_count": null,
   "id": "bb6f440b-e971-4ec8-9516-b08d6c28f2ef",
   "metadata": {},
   "outputs": [],
   "source": []
  }
 ],
 "metadata": {
  "kernelspec": {
   "display_name": "Python 3 (ipykernel)",
   "language": "python",
   "name": "python3"
  },
  "language_info": {
   "codemirror_mode": {
    "name": "ipython",
    "version": 3
   },
   "file_extension": ".py",
   "mimetype": "text/x-python",
   "name": "python",
   "nbconvert_exporter": "python",
   "pygments_lexer": "ipython3",
   "version": "3.12.3"
  }
 },
 "nbformat": 4,
 "nbformat_minor": 5
}
